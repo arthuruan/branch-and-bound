{
  "cells": [
    {
      "cell_type": "markdown",
      "metadata": {
        "colab_type": "text",
        "id": "view-in-github"
      },
      "source": [
        "<a href=\"https://colab.research.google.com/github/arthuruan/branch-and-bound/blob/main/branch-and-bound.ipynb\" target=\"_parent\"><img src=\"https://colab.research.google.com/assets/colab-badge.svg\" alt=\"Open In Colab\"/></a>"
      ]
    },
    {
      "cell_type": "markdown",
      "metadata": {
        "id": "qSrL7dIohSBT"
      },
      "source": [
        "# Branch and Bound"
      ]
    },
    {
      "cell_type": "markdown",
      "metadata": {
        "id": "T_t4XhmmhYO0"
      },
      "source": [
        "### Ler instância de test"
      ]
    },
    {
      "cell_type": "code",
      "execution_count": 13,
      "metadata": {
        "id": "kRv-r_D0Wfve"
      },
      "outputs": [],
      "source": [
        "class Data:\n",
        "    def __init__(self, variablesNumb, restrictionsNumb, coefficientsObjectiveFunc, restrictions):\n",
        "        self.variablesNumb = variablesNumb\n",
        "        self.restrictionsNumb = restrictionsNumb\n",
        "        self.coefficientsObjectiveFunc = coefficientsObjectiveFunc\n",
        "        self.restrictions = restrictions\n",
        "\n",
        "    def printData(self):\n",
        "        print(self.variablesNumb)\n",
        "        print(self.restrictionsNumb)\n",
        "        print(self.coefficientsObjectiveFunc)\n",
        "        print(self.restrictions)\n",
        "\n",
        "\n",
        "def read_file(path):\n",
        "    file = open(path, \"r\")\n",
        "    \n",
        "    variablesNumb = 0\n",
        "    restrictionsNumb = 0\n",
        "    coefficientsObjectiveFunc = []\n",
        "    restrictions = []\n",
        "\n",
        "    for indexLine, line in enumerate(file):\n",
        "        line = line.split()\n",
        "\n",
        "        # loading number of variables and restrictions\n",
        "        if indexLine == 0:\n",
        "            variablesNumb = int(line[0])\n",
        "            restrictionsNumb = int(line[1])\n",
        "\n",
        "        # loading coefficients of the objective function\n",
        "        elif indexLine == 1:\n",
        "            for coefficient in line:\n",
        "                coefficientsObjectiveFunc.append(int(coefficient))\n",
        "    \n",
        "        # loading restrictions\n",
        "        else:\n",
        "            coeficientsRestriction = []\n",
        "            for restrictionsLine in line:\n",
        "                coeficientsRestriction.append(int(restrictionsLine))\n",
        "            restrictions.append(coeficientsRestriction)\n",
        "        \n",
        "\n",
        "    return Data(variablesNumb, restrictionsNumb, coefficientsObjectiveFunc, restrictions)"
      ]
    },
    {
      "cell_type": "markdown",
      "metadata": {
        "id": "6iXD_MoMlMNI"
      },
      "source": [
        "lendo instância de teste"
      ]
    },
    {
      "cell_type": "code",
      "execution_count": 24,
      "metadata": {
        "colab": {
          "base_uri": "https://localhost:8080/"
        },
        "id": "0nrWn6BrlK4n",
        "outputId": "d536378f-fffb-46ed-97bb-69975980066e"
      },
      "outputs": [
        {
          "name": "stdout",
          "output_type": "stream",
          "text": [
            "9\n",
            "9\n",
            "[9, 7, 10, 7, 9, 6, 8, 4, 9]\n",
            "[[4, 9, 4, 1, 9, 6, 3, 6, 1, 40], [3, 7, 8, 7, 6, 3, 5, 9, 4, 80], [9, 3, 6, 5, 7, 1, 1, 3, 9, 40], [5, 9, 6, 5, 9, 7, 8, 7, 8, 10], [7, 7, 4, 1, 3, 4, 8, 1, 9, 10], [1, 6, 6, 1, 6, 7, 3, 8, 7, 10], [6, 6, 8, 6, 10, 8, 1, 4, 4, 70], [9, 1, 9, 7, 10, 5, 6, 2, 5, 10], [2, 7, 6, 5, 1, 1, 9, 2, 1, 20]]\n"
          ]
        }
      ],
      "source": [
        "data1 = read_file('instance-4.txt')\n",
        "data1.printData()"
      ]
    },
    {
      "cell_type": "markdown",
      "metadata": {
        "id": "gNlLEBmLh62j"
      },
      "source": [
        "### Configuração do pacote MIP"
      ]
    },
    {
      "cell_type": "code",
      "execution_count": 15,
      "metadata": {
        "colab": {
          "base_uri": "https://localhost:8080/"
        },
        "id": "hMvdaKdyz3BC",
        "outputId": "1f61f159-bf1f-4dbe-f749-fc569d53afd6"
      },
      "outputs": [
        {
          "name": "stdout",
          "output_type": "stream",
          "text": [
            "Looking in indexes: https://pypi.org/simple, https://us-python.pkg.dev/colab-wheels/public/simple/\n",
            "Requirement already satisfied: mip in /usr/local/lib/python3.8/dist-packages (1.14.1)\n",
            "Requirement already satisfied: cffi==1.15.0 in /usr/local/lib/python3.8/dist-packages (from mip) (1.15.0)\n",
            "Requirement already satisfied: pycparser in /usr/local/lib/python3.8/dist-packages (from cffi==1.15.0->mip) (2.21)\n"
          ]
        }
      ],
      "source": [
        "# instalação e importação do pacote mip\n",
        "!pip install mip\n",
        "from mip import *"
      ]
    },
    {
      "cell_type": "code",
      "execution_count": 16,
      "metadata": {
        "id": "9tA-cUiA91YS"
      },
      "outputs": [],
      "source": [
        "# resolve the model\n",
        "def solve(model):\n",
        "    status = model.optimize()\n",
        "    return model\n",
        "\n",
        "# save the model in lp file and print the content\n",
        "def save(model, filename):\n",
        "    model.write(filename) # save the model in a file\n",
        "    with open(filename, \"r\") as f: # read and show the content\n",
        "        print(f.read())"
      ]
    },
    {
      "cell_type": "markdown",
      "metadata": {
        "id": "3_Fraah6iee_"
      },
      "source": [
        "### Closest Index\n",
        "\n",
        "Função que retorna o index do item que tem o valor mais próximo ao número de refencia recebido(K)."
      ]
    },
    {
      "cell_type": "code",
      "execution_count": 17,
      "metadata": {
        "id": "7y2K2-a6UQ64"
      },
      "outputs": [],
      "source": [
        "# function to return the index of closest number to 0.5 of the refence number\n",
        "def closestIndex(lst, K):\n",
        "    return lst.index(min(lst, key = lambda x: abs(x - K)))"
      ]
    },
    {
      "cell_type": "markdown",
      "metadata": {
        "id": "rN4AO_AkkNqC"
      },
      "source": [
        "### Criando modelo"
      ]
    },
    {
      "cell_type": "code",
      "execution_count": 25,
      "metadata": {
        "colab": {
          "base_uri": "https://localhost:8080/"
        },
        "id": "1I5bue7oy3uf",
        "outputId": "88f4bc65-2e2d-47e3-dc56-8d87ad9d309e"
      },
      "outputs": [
        {
          "name": "stdout",
          "output_type": "stream",
          "text": [
            "\\Problem name: \n",
            "\n",
            "Minimize\n",
            "OBJROW: -9 x_0 -7 x_1 -10 x_2 -7 x_3 -9 x_4 -6 x_5 -8 x_6 -4 x_7 -9 x_8\n",
            "Subject To\n",
            "constr(0):  4 x_0 + 9 x_1 + 4 x_2 + x_3 + 9 x_4 + 6 x_5 + 3 x_6 + 6 x_7 + x_8 <= 40\n",
            "constr(1):  3 x_0 + 7 x_1 + 8 x_2 + 7 x_3 + 6 x_4 + 3 x_5 + 5 x_6 + 9 x_7 + 4 x_8 <= 80\n",
            "constr(2):  9 x_0 + 3 x_1 + 6 x_2 + 5 x_3 + 7 x_4 + x_5 + x_6 + 3 x_7 + 9 x_8 <= 40\n",
            "constr(3):  5 x_0 + 9 x_1 + 6 x_2 + 5 x_3 + 9 x_4 + 7 x_5 + 8 x_6 + 7 x_7 + 8 x_8 <= 10\n",
            "constr(4):  7 x_0 + 7 x_1 + 4 x_2 + x_3 + 3 x_4 + 4 x_5 + 8 x_6 + x_7 + 9 x_8 <= 10\n",
            "constr(5):  x_0 + 6 x_1 + 6 x_2 + x_3 + 6 x_4 + 7 x_5 + 3 x_6 + 8 x_7 + 7 x_8 <= 10\n",
            "constr(6):  6 x_0 + 6 x_1 + 8 x_2 + 6 x_3 + 10 x_4 + 8 x_5 + x_6 + 4 x_7 + 4 x_8 <= 70\n",
            "constr(7):  9 x_0 + x_1 + 9 x_2 + 7 x_3 + 10 x_4 + 5 x_5 + 6 x_6 + 2 x_7 + 5 x_8 <= 10\n",
            "constr(8):  2 x_0 + 7 x_1 + 6 x_2 + 5 x_3 + x_4 + x_5 + 9 x_6 + 2 x_7 + x_8 <= 20\n",
            "Bounds\n",
            " 0 <= x_0 <= 1\n",
            " 0 <= x_1 <= 1\n",
            " 0 <= x_2 <= 1\n",
            " 0 <= x_3 <= 1\n",
            " 0 <= x_4 <= 1\n",
            " 0 <= x_5 <= 1\n",
            " 0 <= x_6 <= 1\n",
            " 0 <= x_7 <= 1\n",
            " 0 <= x_8 <= 1\n",
            "End\n",
            "\n"
          ]
        }
      ],
      "source": [
        "model = Model(sense=MAXIMIZE, solver_name=CBC)\n",
        "\n",
        "variablesRange = range(data1.variablesNumb)\n",
        "coeficients = data1.coefficientsObjectiveFunc\n",
        "restrictionRange = range(data1.restrictionsNumb)\n",
        "restrictions = data1.restrictions\n",
        "\n",
        "x = [model.add_var(var_type=BINARY, name=f\"x_{v}\") for v in variablesRange]\n",
        "model.objective = xsum(coeficients[v] * x[v] for v in variablesRange)\n",
        "\n",
        "for r in restrictionRange:\n",
        "    model += xsum(restrictions[r][v] * x[v] for v in variablesRange) <= restrictions[r][-1]\n",
        "\n",
        "model.relax()\n",
        "save(model, \"model.lp\")"
      ]
    },
    {
      "cell_type": "markdown",
      "metadata": {
        "id": "9Li4b_Fbi0pN"
      },
      "source": [
        "### Algoritmo Branch and Bound "
      ]
    },
    {
      "cell_type": "code",
      "execution_count": 26,
      "metadata": {
        "id": "j94qKY0NAhr4"
      },
      "outputs": [],
      "source": [
        "import math\n",
        "\n",
        "BRANCHING_RULE = 0.5\n",
        "\n",
        "# branch and bound\n",
        "def branchAndBound(nodes, model, dualLimit, primalLimit):\n",
        "    newNodes = []\n",
        "\n",
        "    for i, nodeItem in enumerate(nodes):\n",
        "        node: Model = nodeItem.copy()\n",
        "\n",
        "        try:\n",
        "            # solving the node(model)\n",
        "            solve(node)\n",
        "            dualLimit = min(dualLimit, node.objective_value)\n",
        "        except:\n",
        "            # STOP 1 node\n",
        "            continue\n",
        "\n",
        "\n",
        "        # mapping the variables\n",
        "        variableValues = []\n",
        "        continuousVars = []\n",
        "        for v in node.vars:\n",
        "            variableValues.append(v.x)\n",
        "            if (v.x != 0) and (v.x != 1):\n",
        "                continuousVars.append(v.x)\n",
        "\n",
        "        # it means that all the variables are binaries\n",
        "        if len(continuousVars) == 0:\n",
        "            if node.objective_value > primalLimit:\n",
        "                primalLimit = node.objective_value\n",
        "                model = node\n",
        "            # STOP 2 node\n",
        "            continue\n",
        "\n",
        "        # getting the closest variable index to BRANCH_RULE value\n",
        "        index = closestIndex(variableValues, BRANCHING_RULE)\n",
        "\n",
        "        # adding child node A to the next iteration\n",
        "        nodeA = node.copy()\n",
        "        nodeA += nodeA.vars[index] == 0\n",
        "        newNodes.append(nodeA)\n",
        "\n",
        "        # adding child node B to the next iteration\n",
        "        nodeB = node.copy()\n",
        "        nodeB += nodeB.vars[index] == 1\n",
        "        newNodes.append(nodeB)\n",
        "\n",
        "    if len(newNodes) != 0: # it means that dose\n",
        "        childModel, childPrimalLimit = branchAndBound(newNodes, model, dualLimit, primalLimit)\n",
        "\n",
        "        if childPrimalLimit > primalLimit:\n",
        "            primalLimit = childPrimalLimit # best primal limit\n",
        "            model = childModel # best model\n",
        "    \n",
        "    return model, primalLimit"
      ]
    },
    {
      "cell_type": "markdown",
      "metadata": {
        "id": "HdEwk1dLip1I"
      },
      "source": [
        "### Main"
      ]
    },
    {
      "cell_type": "code",
      "execution_count": 27,
      "metadata": {
        "colab": {
          "base_uri": "https://localhost:8080/"
        },
        "id": "tWjYwDi1ior2",
        "outputId": "f00f19a1-679f-4dc5-fa93-dbfe12ce6f98"
      },
      "outputs": [
        {
          "name": "stdout",
          "output_type": "stream",
          "text": [
            "10.0\n",
            "Solution:\n",
            "x_0 = 0.00\n",
            "x_1 = 0.00\n",
            "x_2 = 1.00\n",
            "x_3 = 0.00\n",
            "x_4 = 0.00\n",
            "x_5 = 0.00\n",
            "x_6 = 0.00\n",
            "x_7 = 0.00\n",
            "x_8 = 0.00\n"
          ]
        }
      ],
      "source": [
        "nodes = [model] # initial node (root)\n",
        "\n",
        "dualLimit = math.inf # upper limit\n",
        "primalLimit = -math.inf # lower limit\n",
        "\n",
        "model, primal = branchAndBound(nodes, model, dualLimit, primalLimit)\n",
        "\n",
        "print(model.objective_value)\n",
        "print(\"Solution:\")\n",
        "for v in model.vars:\n",
        "    print(f\"{v.name} = {v.x:.2f}\")"
      ]
    }
  ],
  "metadata": {
    "colab": {
      "include_colab_link": true,
      "provenance": []
    },
    "kernelspec": {
      "display_name": "Python 3",
      "name": "python3"
    },
    "language_info": {
      "name": "python"
    }
  },
  "nbformat": 4,
  "nbformat_minor": 0
}
